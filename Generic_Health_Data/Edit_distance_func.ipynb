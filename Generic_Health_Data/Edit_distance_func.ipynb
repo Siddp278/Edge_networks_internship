{
 "cells": [
  {
   "cell_type": "code",
   "execution_count": 1,
   "metadata": {},
   "outputs": [],
   "source": [
    "# NOTE: I have displayed all the methods in Edit Distance and fuzzywuzzy package have used the most accurate one, that is\n",
    "# fuzzywuzzy method token_sort_ratio"
   ]
  },
  {
   "cell_type": "code",
   "execution_count": 9,
   "metadata": {},
   "outputs": [],
   "source": [
    "import pandas as pd\n",
    "from Levenshtein import distance as ld\n",
    "import editdistance as ed\n",
    "import pylcs\n",
    "from fastDamerauLevenshtein import damerauLevenshtein as dln\n",
    "import re\n",
    "from fuzzywuzzy import fuzz"
   ]
  },
  {
   "cell_type": "code",
   "execution_count": 2,
   "metadata": {},
   "outputs": [],
   "source": [
    "title_list = pd.read_excel(r'C:\\Users\\KIIT\\Desktop\\Folders\\Py\\titles list.xlsx')\n",
    "data = pd.read_excel(r'C:\\Users\\KIIT\\Desktop\\Folders\\Py\\Re_Changed.xlsx')\n",
    "#data.head()"
   ]
  },
  {
   "cell_type": "code",
   "execution_count": 3,
   "metadata": {},
   "outputs": [
    {
     "data": {
      "text/plain": [
       "'Accounts & Finance Executive (b.com / M.com) - (0-2 Years)'"
      ]
     },
     "execution_count": 3,
     "metadata": {},
     "output_type": "execute_result"
    }
   ],
   "source": [
    "data_title_list = data['_source.title'].to_list()\n",
    "len(data_title_list)\n",
    "data_title_list[0]"
   ]
  },
  {
   "cell_type": "code",
   "execution_count": 4,
   "metadata": {},
   "outputs": [
    {
     "data": {
      "text/plain": [
       "'. net application architect'"
      ]
     },
     "execution_count": 4,
     "metadata": {},
     "output_type": "execute_result"
    }
   ],
   "source": [
    "title_listing = pd.DataFrame(title_list)\n",
    "title = title_listing['titles'].to_list()\n",
    "title[0]"
   ]
  },
  {
   "cell_type": "code",
   "execution_count": 5,
   "metadata": {},
   "outputs": [],
   "source": [
    "def duplicates(lst, item):\n",
    "    return [i for i, x in enumerate(lst) if x == item]"
   ]
  },
  {
   "cell_type": "markdown",
   "metadata": {},
   "source": [
    "## Using fuzzywuzzy method token_sort_ratio"
   ]
  },
  {
   "cell_type": "code",
   "execution_count": 6,
   "metadata": {},
   "outputs": [],
   "source": [
    "def Simple(strings):\n",
    "    hold = re.sub(r'\\([^)]*\\)', '', strings)\n",
    "    return hold"
   ]
  },
  {
   "cell_type": "code",
   "execution_count": 13,
   "metadata": {},
   "outputs": [],
   "source": [
    "def Fuzzy_token(data_list, titles_list):\n",
    "    final_lists = []\n",
    "    for i in range(0, len(data_list)):\n",
    "        list11 = []\n",
    "        list22 = []\n",
    "        for p in range(0, len(titles_list)):\n",
    "            tempo = fuzz.token_sort_ratio(Simple(data_list[i]), title[p])\n",
    "            list11.append(tempo)\n",
    "            list22.append(title[p])\n",
    "        maxi = max(list11)\n",
    "        index = list11.index(maxi)\n",
    "        final_lists.append(list22[index])\n",
    "        \n",
    "    return final_lists"
   ]
  },
  {
   "cell_type": "code",
   "execution_count": 16,
   "metadata": {},
   "outputs": [
    {
     "data": {
      "text/plain": [
       "5000"
      ]
     },
     "execution_count": 16,
     "metadata": {},
     "output_type": "execute_result"
    }
   ],
   "source": [
    "new_try1 = Fuzzy_token(data_title_list, title_list)\n",
    "len(new_try1)"
   ]
  },
  {
   "cell_type": "code",
   "execution_count": 21,
   "metadata": {},
   "outputs": [],
   "source": [
    "Data = pd.DataFrame(data)\n",
    "Data['Edit_Names'] = new_try1\n",
    "#Data.head(3)\n",
    "Data.to_csv(r'C:\\Users\\KIIT\\Desktop\\Edit_Generic_data.csv')"
   ]
  },
  {
   "cell_type": "markdown",
   "metadata": {},
   "source": [
    "### Using Levenshtein Package"
   ]
  },
  {
   "cell_type": "code",
   "execution_count": 7,
   "metadata": {},
   "outputs": [],
   "source": [
    "def Callables(data_list, titles_list):\n",
    "    final_lists = []\n",
    "    for i in range(0, len(data_list)):\n",
    "        list11 = []\n",
    "        list22 = []\n",
    "        for p in range(0, len(titles_list)):\n",
    "            tempo = ld(data_list[i], title[p])\n",
    "            list11.append(tempo)\n",
    "            list22.append(title[p])\n",
    "        mini = min(list11)\n",
    "        call = duplicates(list11, mini) #another function call.\n",
    "        final_lists.append(list22[call[0]])\n",
    "        \n",
    "    return final_lists"
   ]
  },
  {
   "cell_type": "code",
   "execution_count": 8,
   "metadata": {},
   "outputs": [
    {
     "data": {
      "text/plain": [
       "['account executive contractor',\n",
       " 'animal laboratory technician',\n",
       " 'aircraft structural engineer',\n",
       " 'appentice',\n",
       " 'accounts assistant supervisor',\n",
       " 'admin officer cum accountant',\n",
       " 'acting assistant principal',\n",
       " 'ambulatory technician',\n",
       " 'account specialist manager',\n",
       " 'account specialist manager']"
      ]
     },
     "execution_count": 8,
     "metadata": {},
     "output_type": "execute_result"
    }
   ],
   "source": [
    "try_out = Callables(data_title_list[:10], title_list)\n",
    "try_out"
   ]
  },
  {
   "cell_type": "markdown",
   "metadata": {},
   "source": [
    "### Using editdistance module"
   ]
  },
  {
   "cell_type": "code",
   "execution_count": 13,
   "metadata": {},
   "outputs": [],
   "source": [
    "def Callables1(data_list, titles_list):\n",
    "    final_lists = []\n",
    "    for i in range(0, len(data_list)):\n",
    "        list11 = []\n",
    "        list22 = []\n",
    "        for p in range(0, len(titles_list)):\n",
    "            tempo = ed.eval(data_list[i], title[p])\n",
    "            list11.append(tempo)\n",
    "            list22.append(title[p])\n",
    "        mini = min(list11)\n",
    "        call = duplicates(list11, mini) #another function call.\n",
    "        final_lists.append(list22[call[0]])\n",
    "        \n",
    "    return final_lists"
   ]
  },
  {
   "cell_type": "code",
   "execution_count": 14,
   "metadata": {},
   "outputs": [
    {
     "data": {
      "text/plain": [
       "['account executive contractor',\n",
       " 'animal laboratory technician',\n",
       " 'aircraft structural engineer',\n",
       " 'appentice',\n",
       " 'accounts assistant supervisor',\n",
       " 'admin officer cum accountant',\n",
       " 'acting assistant principal',\n",
       " 'ambulatory technician',\n",
       " 'account specialist manager',\n",
       " 'account specialist manager']"
      ]
     },
     "execution_count": 14,
     "metadata": {},
     "output_type": "execute_result"
    }
   ],
   "source": [
    "try_out1 = Callables1(data_title_list[:10], title_list)\n",
    "try_out1"
   ]
  },
  {
   "cell_type": "markdown",
   "metadata": {},
   "source": [
    "### Using pylcs package"
   ]
  },
  {
   "cell_type": "code",
   "execution_count": 16,
   "metadata": {},
   "outputs": [],
   "source": [
    "def Callables2(data_list, titles_list):\n",
    "    final_lists = []\n",
    "    for i in range(0, len(data_list)):\n",
    "        list11 = []\n",
    "        list22 = []\n",
    "        for p in range(0, len(titles_list)):\n",
    "            tempo = pylcs.lcs(data_list[i], title[p])\n",
    "            list11.append(tempo)\n",
    "            list22.append(title[p])\n",
    "        mini = min(list11)\n",
    "        call = duplicates(list11, mini) #another function call.\n",
    "        final_lists.append(list22[call[0]])\n",
    "        \n",
    "    return final_lists"
   ]
  },
  {
   "cell_type": "code",
   "execution_count": 17,
   "metadata": {},
   "outputs": [
    {
     "data": {
      "text/plain": [
       "['admin', 'ampm', 'ampm', 'abm', 'abm', 'abm', 'abm', 'ampm', 'abm', 'abm']"
      ]
     },
     "execution_count": 17,
     "metadata": {},
     "output_type": "execute_result"
    }
   ],
   "source": [
    "try_out2 = Callables2(data_title_list[:10], title_list)\n",
    "try_out2"
   ]
  },
  {
   "cell_type": "markdown",
   "metadata": {},
   "source": [
    "### using fastDamerauLevenshtein package"
   ]
  },
  {
   "cell_type": "code",
   "execution_count": 23,
   "metadata": {},
   "outputs": [],
   "source": [
    "def Callables3(data_list, titles_list):\n",
    "    final_lists = []\n",
    "    for i in range(0, len(data_list)):\n",
    "        list11 = []\n",
    "        list22 = []\n",
    "        for p in range(0, len(titles_list)):\n",
    "            tempo = dln(data_list[i], title[p], similarity=False)# similarity=false gives better results but it still lags.\n",
    "            list11.append(tempo)\n",
    "            list22.append(title[p])\n",
    "        mini = min(list11)\n",
    "        call = duplicates(list11, mini) #another function call.\n",
    "        final_lists.append(list22[call[0]])\n",
    "        \n",
    "    return final_lists"
   ]
  },
  {
   "cell_type": "code",
   "execution_count": 22,
   "metadata": {},
   "outputs": [
    {
     "data": {
      "text/plain": [
       "['account executive contractor',\n",
       " 'animal laboratory technician',\n",
       " 'aircraft structural engineer',\n",
       " 'appentice',\n",
       " 'accounts assistant supervisor',\n",
       " 'admin officer cum accountant',\n",
       " 'acting assistant principal',\n",
       " 'ambulatory technician',\n",
       " 'account specialist manager',\n",
       " 'account specialist manager']"
      ]
     },
     "execution_count": 22,
     "metadata": {},
     "output_type": "execute_result"
    }
   ],
   "source": [
    "try_out3 = Callables3(data_title_list[:10], title_list)\n",
    "try_out3"
   ]
  },
  {
   "cell_type": "markdown",
   "metadata": {},
   "source": [
    "### Using fuzzywuzzy package"
   ]
  },
  {
   "cell_type": "code",
   "execution_count": 24,
   "metadata": {},
   "outputs": [],
   "source": [
    "from fuzzywuzzy import fuzz"
   ]
  },
  {
   "cell_type": "code",
   "execution_count": 25,
   "metadata": {},
   "outputs": [],
   "source": [
    "def Fuzzy(data_list, titles_list):\n",
    "    final_lists = []\n",
    "    for i in range(0, len(data_list)):\n",
    "        list11 = []\n",
    "        list22 = []\n",
    "        for p in range(0, len(titles_list)):\n",
    "            tempo = fuzz.partial_ratio(data_list[i], title[p])\n",
    "            list11.append(tempo)\n",
    "            list22.append(title[p])\n",
    "        maxi = max(list11)\n",
    "        call = duplicates(list11, maxi) #another function call.\n",
    "        final_lists.append(list22[call[0]])\n",
    "        \n",
    "    return final_lists"
   ]
  },
  {
   "cell_type": "code",
   "execution_count": 26,
   "metadata": {},
   "outputs": [
    {
     "data": {
      "text/plain": [
       "['area executive',\n",
       " 'ac assistant',\n",
       " 'agriculture engineer',\n",
       " 'adjunct research scientist',\n",
       " 'ac assistant',\n",
       " 'adl officer',\n",
       " 'ac assistant',\n",
       " 'animal laboratory technician',\n",
       " 'ad specialist',\n",
       " 'ad specialist']"
      ]
     },
     "execution_count": 26,
     "metadata": {},
     "output_type": "execute_result"
    }
   ],
   "source": [
    "new_try = Fuzzy(data_title_list[:10], title_list)\n",
    "new_try"
   ]
  },
  {
   "cell_type": "markdown",
   "metadata": {},
   "source": [
    "### using token_sort_ratio method"
   ]
  },
  {
   "cell_type": "code",
   "execution_count": 30,
   "metadata": {},
   "outputs": [],
   "source": [
    "### this one gives the most accuracy"
   ]
  },
  {
   "cell_type": "code",
   "execution_count": 31,
   "metadata": {},
   "outputs": [],
   "source": [
    "def Fuzzy_token(data_list, titles_list):\n",
    "    final_lists = []\n",
    "    for i in range(0, len(data_list)):\n",
    "        list11 = []\n",
    "        list22 = []\n",
    "        for p in range(0, len(titles_list)):\n",
    "            tempo = fuzz.token_sort_ratio(data_list[i], title[p])\n",
    "            list11.append(tempo)\n",
    "            list22.append(title[p])\n",
    "        maxi = max(list11)\n",
    "        call = duplicates(list11, maxi) #another function call.\n",
    "        final_lists.append(list22[call[0]])\n",
    "        \n",
    "    return final_lists"
   ]
  },
  {
   "cell_type": "code",
   "execution_count": 32,
   "metadata": {},
   "outputs": [
    {
     "data": {
      "text/plain": [
       "['accounts cum office executive',\n",
       " 'animal laboratory technician',\n",
       " 'agricultural field assistant',\n",
       " 'applied scientist',\n",
       " 'aircraft components inspector',\n",
       " 'accounts cum purchase officer',\n",
       " 'account servicing assistant',\n",
       " 'ambulatory technician',\n",
       " 'advanced clinical specialist',\n",
       " 'account technology specialist']"
      ]
     },
     "execution_count": 32,
     "metadata": {},
     "output_type": "execute_result"
    }
   ],
   "source": [
    "new_try1 = Fuzzy_token(data_title_list[:10], title_list)\n",
    "new_try1"
   ]
  },
  {
   "cell_type": "code",
   "execution_count": null,
   "metadata": {},
   "outputs": [],
   "source": []
  }
 ],
 "metadata": {
  "kernelspec": {
   "display_name": "Python 3",
   "language": "python",
   "name": "python3"
  },
  "language_info": {
   "codemirror_mode": {
    "name": "ipython",
    "version": 3
   },
   "file_extension": ".py",
   "mimetype": "text/x-python",
   "name": "python",
   "nbconvert_exporter": "python",
   "pygments_lexer": "ipython3",
   "version": "3.7.6"
  }
 },
 "nbformat": 4,
 "nbformat_minor": 4
}
